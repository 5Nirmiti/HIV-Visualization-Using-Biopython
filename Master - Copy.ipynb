{
 "cells": [
  {
   "cell_type": "markdown",
   "metadata": {},
   "source": [
    "# Collagen Protein Visualisation With Biopython"
   ]
  },
  {
   "cell_type": "markdown",
   "metadata": {},
   "source": [
    "# Table of contents:<br>\n",
    "1. [Attributes of Biopython](#1.-Attributes-of-Biopython)\n",
    "2. [Understand FASTA file format](#2.-Understanding-FASTA-file-format)\n",
    "3. [Sequence manipulation using Biopython](#3.-Sequence-manipulation-using-Biopython)\n",
    "4. [Transcription & Translation studies](#4.-Transcription-&-Translation-Studies)\n",
    "5. [Perform Basic Local Alignment using NCBI-BLAST](#5.-Basic-Local-Alignment-Using-NCBI-BLAST)\n",
    "6. [Reading PDB file](#6.-Reading-PDB-file)\n",
    "7. [Visualizing Collagen Protein structure](#7.-Visualizing-Collagen-Protein-structure)"
   ]
  },
  {
   "cell_type": "markdown",
   "metadata": {},
   "source": [
    "## Biopython"
   ]
  },
  {
   "cell_type": "markdown",
   "metadata": {},
   "source": [
    "<div class=\"alert alert-block alert-info\" style=\"Font-size:16px\">\n",
    "    \n",
    "- Set of **tools** for **Biological computation**<br>\n",
    "- Written in **Python**<br>\n",
    "- Distributed **collaborative effort** to develop Python libraries and applications<br>\n",
    "- Address the needs of current and future work in **Bioinformatics**<br>\n",
    "    \n",
    "</div>"
   ]
  },
  {
   "cell_type": "markdown",
   "metadata": {},
   "source": [
    "### Applications"
   ]
  },
  {
   "cell_type": "markdown",
   "metadata": {},
   "source": [
    "<div class=\"alert alert-block alert-success\" style=\"Font-size:15px\">\n",
    "    \n",
    "1. **Sequence Analysis** (DNA/RNA/Protein)<br>\n",
    "2. **Transcription** & **Translation studies**<br>\n",
    "3. Accessing **Bioinformatics Databases**<br>\n",
    "a. NCBI<br>\n",
    "b. PDB<br>\n",
    "\n",
    "4. **3D Structure** Analysis\n",
    "</div>"
   ]
  },
  {
   "cell_type": "markdown",
   "metadata": {},
   "source": [
    "## MODULES"
   ]
  },
  {
   "cell_type": "code",
   "execution_count": 11,
   "metadata": {},
   "outputs": [
    {
     "name": "stdout",
     "output_type": "stream",
     "text": [
      "Requirement already satisfied: biopython in c:\\users\\nirmi\\anaconda3\\lib\\site-packages (1.84)\n",
      "Requirement already satisfied: numpy in c:\\users\\nirmi\\anaconda3\\lib\\site-packages (from biopython) (1.26.4)\n",
      "Requirement already satisfied: nglview in c:\\users\\nirmi\\anaconda3\\lib\\site-packages (3.1.2)\n",
      "Requirement already satisfied: ipywidgets>=8 in c:\\users\\nirmi\\anaconda3\\lib\\site-packages (from nglview) (8.1.5)\n",
      "Requirement already satisfied: notebook>=7 in c:\\users\\nirmi\\anaconda3\\lib\\site-packages (from nglview) (7.0.8)\n",
      "Requirement already satisfied: jupyterlab-widgets in c:\\users\\nirmi\\anaconda3\\lib\\site-packages (from nglview) (3.0.13)\n",
      "Requirement already satisfied: numpy in c:\\users\\nirmi\\anaconda3\\lib\\site-packages (from nglview) (1.26.4)\n",
      "Requirement already satisfied: comm>=0.1.3 in c:\\users\\nirmi\\anaconda3\\lib\\site-packages (from ipywidgets>=8->nglview) (0.2.1)\n",
      "Requirement already satisfied: ipython>=6.1.0 in c:\\users\\nirmi\\anaconda3\\lib\\site-packages (from ipywidgets>=8->nglview) (8.25.0)\n",
      "Requirement already satisfied: traitlets>=4.3.1 in c:\\users\\nirmi\\anaconda3\\lib\\site-packages (from ipywidgets>=8->nglview) (5.14.3)\n",
      "Requirement already satisfied: widgetsnbextension~=4.0.12 in c:\\users\\nirmi\\anaconda3\\lib\\site-packages (from ipywidgets>=8->nglview) (4.0.13)\n",
      "Requirement already satisfied: jupyter-server<3,>=2.4.0 in c:\\users\\nirmi\\anaconda3\\lib\\site-packages (from notebook>=7->nglview) (2.14.1)\n",
      "Requirement already satisfied: jupyterlab-server<3,>=2.22.1 in c:\\users\\nirmi\\anaconda3\\lib\\site-packages (from notebook>=7->nglview) (2.25.1)\n",
      "Requirement already satisfied: jupyterlab<4.1,>=4.0.2 in c:\\users\\nirmi\\anaconda3\\lib\\site-packages (from notebook>=7->nglview) (4.0.11)\n",
      "Requirement already satisfied: notebook-shim<0.3,>=0.2 in c:\\users\\nirmi\\anaconda3\\lib\\site-packages (from notebook>=7->nglview) (0.2.3)\n",
      "Requirement already satisfied: tornado>=6.2.0 in c:\\users\\nirmi\\anaconda3\\lib\\site-packages (from notebook>=7->nglview) (6.4.1)\n",
      "Requirement already satisfied: decorator in c:\\users\\nirmi\\anaconda3\\lib\\site-packages (from ipython>=6.1.0->ipywidgets>=8->nglview) (5.1.1)\n",
      "Requirement already satisfied: jedi>=0.16 in c:\\users\\nirmi\\anaconda3\\lib\\site-packages (from ipython>=6.1.0->ipywidgets>=8->nglview) (0.18.1)\n",
      "Requirement already satisfied: matplotlib-inline in c:\\users\\nirmi\\anaconda3\\lib\\site-packages (from ipython>=6.1.0->ipywidgets>=8->nglview) (0.1.6)\n",
      "Requirement already satisfied: prompt-toolkit<3.1.0,>=3.0.41 in c:\\users\\nirmi\\anaconda3\\lib\\site-packages (from ipython>=6.1.0->ipywidgets>=8->nglview) (3.0.43)\n",
      "Requirement already satisfied: pygments>=2.4.0 in c:\\users\\nirmi\\anaconda3\\lib\\site-packages (from ipython>=6.1.0->ipywidgets>=8->nglview) (2.15.1)\n",
      "Requirement already satisfied: stack-data in c:\\users\\nirmi\\anaconda3\\lib\\site-packages (from ipython>=6.1.0->ipywidgets>=8->nglview) (0.2.0)\n",
      "Requirement already satisfied: colorama in c:\\users\\nirmi\\anaconda3\\lib\\site-packages (from ipython>=6.1.0->ipywidgets>=8->nglview) (0.4.6)\n",
      "Requirement already satisfied: anyio>=3.1.0 in c:\\users\\nirmi\\anaconda3\\lib\\site-packages (from jupyter-server<3,>=2.4.0->notebook>=7->nglview) (4.2.0)\n",
      "Requirement already satisfied: argon2-cffi>=21.1 in c:\\users\\nirmi\\anaconda3\\lib\\site-packages (from jupyter-server<3,>=2.4.0->notebook>=7->nglview) (21.3.0)\n",
      "Requirement already satisfied: jinja2>=3.0.3 in c:\\users\\nirmi\\anaconda3\\lib\\site-packages (from jupyter-server<3,>=2.4.0->notebook>=7->nglview) (3.1.4)\n",
      "Requirement already satisfied: jupyter-client>=7.4.4 in c:\\users\\nirmi\\anaconda3\\lib\\site-packages (from jupyter-server<3,>=2.4.0->notebook>=7->nglview) (8.6.0)\n",
      "Requirement already satisfied: jupyter-core!=5.0.*,>=4.12 in c:\\users\\nirmi\\anaconda3\\lib\\site-packages (from jupyter-server<3,>=2.4.0->notebook>=7->nglview) (5.7.2)\n",
      "Requirement already satisfied: jupyter-events>=0.9.0 in c:\\users\\nirmi\\anaconda3\\lib\\site-packages (from jupyter-server<3,>=2.4.0->notebook>=7->nglview) (0.10.0)\n",
      "Requirement already satisfied: jupyter-server-terminals>=0.4.4 in c:\\users\\nirmi\\anaconda3\\lib\\site-packages (from jupyter-server<3,>=2.4.0->notebook>=7->nglview) (0.4.4)\n",
      "Requirement already satisfied: nbconvert>=6.4.4 in c:\\users\\nirmi\\anaconda3\\lib\\site-packages (from jupyter-server<3,>=2.4.0->notebook>=7->nglview) (7.10.0)\n",
      "Requirement already satisfied: nbformat>=5.3.0 in c:\\users\\nirmi\\anaconda3\\lib\\site-packages (from jupyter-server<3,>=2.4.0->notebook>=7->nglview) (5.9.2)\n",
      "Requirement already satisfied: overrides>=5.0 in c:\\users\\nirmi\\anaconda3\\lib\\site-packages (from jupyter-server<3,>=2.4.0->notebook>=7->nglview) (7.4.0)\n",
      "Requirement already satisfied: packaging>=22.0 in c:\\users\\nirmi\\anaconda3\\lib\\site-packages (from jupyter-server<3,>=2.4.0->notebook>=7->nglview) (23.2)\n",
      "Requirement already satisfied: prometheus-client>=0.9 in c:\\users\\nirmi\\anaconda3\\lib\\site-packages (from jupyter-server<3,>=2.4.0->notebook>=7->nglview) (0.14.1)\n",
      "Requirement already satisfied: pywinpty>=2.0.1 in c:\\users\\nirmi\\anaconda3\\lib\\site-packages (from jupyter-server<3,>=2.4.0->notebook>=7->nglview) (2.0.10)\n",
      "Requirement already satisfied: pyzmq>=24 in c:\\users\\nirmi\\anaconda3\\lib\\site-packages (from jupyter-server<3,>=2.4.0->notebook>=7->nglview) (25.1.2)\n",
      "Requirement already satisfied: send2trash>=1.8.2 in c:\\users\\nirmi\\anaconda3\\lib\\site-packages (from jupyter-server<3,>=2.4.0->notebook>=7->nglview) (1.8.2)\n",
      "Requirement already satisfied: terminado>=0.8.3 in c:\\users\\nirmi\\anaconda3\\lib\\site-packages (from jupyter-server<3,>=2.4.0->notebook>=7->nglview) (0.17.1)\n",
      "Requirement already satisfied: websocket-client>=1.7 in c:\\users\\nirmi\\anaconda3\\lib\\site-packages (from jupyter-server<3,>=2.4.0->notebook>=7->nglview) (1.8.0)\n",
      "Requirement already satisfied: async-lru>=1.0.0 in c:\\users\\nirmi\\anaconda3\\lib\\site-packages (from jupyterlab<4.1,>=4.0.2->notebook>=7->nglview) (2.0.4)\n",
      "Requirement already satisfied: ipykernel in c:\\users\\nirmi\\anaconda3\\lib\\site-packages (from jupyterlab<4.1,>=4.0.2->notebook>=7->nglview) (6.28.0)\n",
      "Requirement already satisfied: jupyter-lsp>=2.0.0 in c:\\users\\nirmi\\anaconda3\\lib\\site-packages (from jupyterlab<4.1,>=4.0.2->notebook>=7->nglview) (2.2.0)\n",
      "Requirement already satisfied: babel>=2.10 in c:\\users\\nirmi\\anaconda3\\lib\\site-packages (from jupyterlab-server<3,>=2.22.1->notebook>=7->nglview) (2.11.0)\n",
      "Requirement already satisfied: json5>=0.9.0 in c:\\users\\nirmi\\anaconda3\\lib\\site-packages (from jupyterlab-server<3,>=2.22.1->notebook>=7->nglview) (0.9.6)\n",
      "Requirement already satisfied: jsonschema>=4.18.0 in c:\\users\\nirmi\\anaconda3\\lib\\site-packages (from jupyterlab-server<3,>=2.22.1->notebook>=7->nglview) (4.19.2)\n",
      "Requirement already satisfied: requests>=2.31 in c:\\users\\nirmi\\anaconda3\\lib\\site-packages (from jupyterlab-server<3,>=2.22.1->notebook>=7->nglview) (2.32.2)\n",
      "Requirement already satisfied: idna>=2.8 in c:\\users\\nirmi\\anaconda3\\lib\\site-packages (from anyio>=3.1.0->jupyter-server<3,>=2.4.0->notebook>=7->nglview) (3.7)\n",
      "Requirement already satisfied: sniffio>=1.1 in c:\\users\\nirmi\\anaconda3\\lib\\site-packages (from anyio>=3.1.0->jupyter-server<3,>=2.4.0->notebook>=7->nglview) (1.3.0)\n",
      "Requirement already satisfied: argon2-cffi-bindings in c:\\users\\nirmi\\anaconda3\\lib\\site-packages (from argon2-cffi>=21.1->jupyter-server<3,>=2.4.0->notebook>=7->nglview) (21.2.0)\n",
      "Requirement already satisfied: pytz>=2015.7 in c:\\users\\nirmi\\anaconda3\\lib\\site-packages (from babel>=2.10->jupyterlab-server<3,>=2.22.1->notebook>=7->nglview) (2024.1)\n",
      "Requirement already satisfied: parso<0.9.0,>=0.8.0 in c:\\users\\nirmi\\anaconda3\\lib\\site-packages (from jedi>=0.16->ipython>=6.1.0->ipywidgets>=8->nglview) (0.8.3)\n",
      "Requirement already satisfied: MarkupSafe>=2.0 in c:\\users\\nirmi\\anaconda3\\lib\\site-packages (from jinja2>=3.0.3->jupyter-server<3,>=2.4.0->notebook>=7->nglview) (2.1.3)\n",
      "Requirement already satisfied: attrs>=22.2.0 in c:\\users\\nirmi\\anaconda3\\lib\\site-packages (from jsonschema>=4.18.0->jupyterlab-server<3,>=2.22.1->notebook>=7->nglview) (23.1.0)\n",
      "Requirement already satisfied: jsonschema-specifications>=2023.03.6 in c:\\users\\nirmi\\anaconda3\\lib\\site-packages (from jsonschema>=4.18.0->jupyterlab-server<3,>=2.22.1->notebook>=7->nglview) (2023.7.1)\n",
      "Requirement already satisfied: referencing>=0.28.4 in c:\\users\\nirmi\\anaconda3\\lib\\site-packages (from jsonschema>=4.18.0->jupyterlab-server<3,>=2.22.1->notebook>=7->nglview) (0.30.2)\n",
      "Requirement already satisfied: rpds-py>=0.7.1 in c:\\users\\nirmi\\anaconda3\\lib\\site-packages (from jsonschema>=4.18.0->jupyterlab-server<3,>=2.22.1->notebook>=7->nglview) (0.10.6)\n",
      "Requirement already satisfied: python-dateutil>=2.8.2 in c:\\users\\nirmi\\anaconda3\\lib\\site-packages (from jupyter-client>=7.4.4->jupyter-server<3,>=2.4.0->notebook>=7->nglview) (2.9.0.post0)\n",
      "Requirement already satisfied: platformdirs>=2.5 in c:\\users\\nirmi\\anaconda3\\lib\\site-packages (from jupyter-core!=5.0.*,>=4.12->jupyter-server<3,>=2.4.0->notebook>=7->nglview) (3.10.0)\n",
      "Requirement already satisfied: pywin32>=300 in c:\\users\\nirmi\\anaconda3\\lib\\site-packages (from jupyter-core!=5.0.*,>=4.12->jupyter-server<3,>=2.4.0->notebook>=7->nglview) (305.1)\n",
      "Requirement already satisfied: python-json-logger>=2.0.4 in c:\\users\\nirmi\\anaconda3\\lib\\site-packages (from jupyter-events>=0.9.0->jupyter-server<3,>=2.4.0->notebook>=7->nglview) (2.0.7)\n",
      "Requirement already satisfied: pyyaml>=5.3 in c:\\users\\nirmi\\anaconda3\\lib\\site-packages (from jupyter-events>=0.9.0->jupyter-server<3,>=2.4.0->notebook>=7->nglview) (6.0.1)\n",
      "Requirement already satisfied: rfc3339-validator in c:\\users\\nirmi\\anaconda3\\lib\\site-packages (from jupyter-events>=0.9.0->jupyter-server<3,>=2.4.0->notebook>=7->nglview) (0.1.4)\n",
      "Requirement already satisfied: rfc3986-validator>=0.1.1 in c:\\users\\nirmi\\anaconda3\\lib\\site-packages (from jupyter-events>=0.9.0->jupyter-server<3,>=2.4.0->notebook>=7->nglview) (0.1.1)\n",
      "Requirement already satisfied: beautifulsoup4 in c:\\users\\nirmi\\anaconda3\\lib\\site-packages (from nbconvert>=6.4.4->jupyter-server<3,>=2.4.0->notebook>=7->nglview) (4.12.3)\n",
      "Requirement already satisfied: bleach!=5.0.0 in c:\\users\\nirmi\\anaconda3\\lib\\site-packages (from nbconvert>=6.4.4->jupyter-server<3,>=2.4.0->notebook>=7->nglview) (4.1.0)\n",
      "Requirement already satisfied: defusedxml in c:\\users\\nirmi\\anaconda3\\lib\\site-packages (from nbconvert>=6.4.4->jupyter-server<3,>=2.4.0->notebook>=7->nglview) (0.7.1)\n",
      "Requirement already satisfied: jupyterlab-pygments in c:\\users\\nirmi\\anaconda3\\lib\\site-packages (from nbconvert>=6.4.4->jupyter-server<3,>=2.4.0->notebook>=7->nglview) (0.1.2)\n",
      "Requirement already satisfied: mistune<4,>=2.0.3 in c:\\users\\nirmi\\anaconda3\\lib\\site-packages (from nbconvert>=6.4.4->jupyter-server<3,>=2.4.0->notebook>=7->nglview) (2.0.4)\n",
      "Requirement already satisfied: nbclient>=0.5.0 in c:\\users\\nirmi\\anaconda3\\lib\\site-packages (from nbconvert>=6.4.4->jupyter-server<3,>=2.4.0->notebook>=7->nglview) (0.8.0)\n",
      "Requirement already satisfied: pandocfilters>=1.4.1 in c:\\users\\nirmi\\anaconda3\\lib\\site-packages (from nbconvert>=6.4.4->jupyter-server<3,>=2.4.0->notebook>=7->nglview) (1.5.0)\n",
      "Requirement already satisfied: tinycss2 in c:\\users\\nirmi\\anaconda3\\lib\\site-packages (from nbconvert>=6.4.4->jupyter-server<3,>=2.4.0->notebook>=7->nglview) (1.2.1)\n",
      "Requirement already satisfied: fastjsonschema in c:\\users\\nirmi\\anaconda3\\lib\\site-packages (from nbformat>=5.3.0->jupyter-server<3,>=2.4.0->notebook>=7->nglview) (2.16.2)\n",
      "Requirement already satisfied: wcwidth in c:\\users\\nirmi\\anaconda3\\lib\\site-packages (from prompt-toolkit<3.1.0,>=3.0.41->ipython>=6.1.0->ipywidgets>=8->nglview) (0.2.5)\n",
      "Requirement already satisfied: charset-normalizer<4,>=2 in c:\\users\\nirmi\\anaconda3\\lib\\site-packages (from requests>=2.31->jupyterlab-server<3,>=2.22.1->notebook>=7->nglview) (2.0.4)\n",
      "Requirement already satisfied: urllib3<3,>=1.21.1 in c:\\users\\nirmi\\anaconda3\\lib\\site-packages (from requests>=2.31->jupyterlab-server<3,>=2.22.1->notebook>=7->nglview) (2.2.2)\n",
      "Requirement already satisfied: certifi>=2017.4.17 in c:\\users\\nirmi\\anaconda3\\lib\\site-packages (from requests>=2.31->jupyterlab-server<3,>=2.22.1->notebook>=7->nglview) (2024.7.4)\n",
      "Requirement already satisfied: debugpy>=1.6.5 in c:\\users\\nirmi\\anaconda3\\lib\\site-packages (from ipykernel->jupyterlab<4.1,>=4.0.2->notebook>=7->nglview) (1.6.7)\n",
      "Requirement already satisfied: nest-asyncio in c:\\users\\nirmi\\anaconda3\\lib\\site-packages (from ipykernel->jupyterlab<4.1,>=4.0.2->notebook>=7->nglview) (1.6.0)\n",
      "Requirement already satisfied: psutil in c:\\users\\nirmi\\anaconda3\\lib\\site-packages (from ipykernel->jupyterlab<4.1,>=4.0.2->notebook>=7->nglview) (5.9.0)\n",
      "Requirement already satisfied: executing in c:\\users\\nirmi\\anaconda3\\lib\\site-packages (from stack-data->ipython>=6.1.0->ipywidgets>=8->nglview) (0.8.3)\n",
      "Requirement already satisfied: asttokens in c:\\users\\nirmi\\anaconda3\\lib\\site-packages (from stack-data->ipython>=6.1.0->ipywidgets>=8->nglview) (2.0.5)\n",
      "Requirement already satisfied: pure-eval in c:\\users\\nirmi\\anaconda3\\lib\\site-packages (from stack-data->ipython>=6.1.0->ipywidgets>=8->nglview) (0.2.2)\n",
      "Requirement already satisfied: six>=1.9.0 in c:\\users\\nirmi\\anaconda3\\lib\\site-packages (from bleach!=5.0.0->nbconvert>=6.4.4->jupyter-server<3,>=2.4.0->notebook>=7->nglview) (1.16.0)\n",
      "Requirement already satisfied: webencodings in c:\\users\\nirmi\\anaconda3\\lib\\site-packages (from bleach!=5.0.0->nbconvert>=6.4.4->jupyter-server<3,>=2.4.0->notebook>=7->nglview) (0.5.1)\n",
      "Requirement already satisfied: fqdn in c:\\users\\nirmi\\anaconda3\\lib\\site-packages (from jsonschema[format-nongpl]>=4.18.0->jupyter-events>=0.9.0->jupyter-server<3,>=2.4.0->notebook>=7->nglview) (1.5.1)\n",
      "Requirement already satisfied: isoduration in c:\\users\\nirmi\\anaconda3\\lib\\site-packages (from jsonschema[format-nongpl]>=4.18.0->jupyter-events>=0.9.0->jupyter-server<3,>=2.4.0->notebook>=7->nglview) (20.11.0)\n",
      "Requirement already satisfied: jsonpointer>1.13 in c:\\users\\nirmi\\anaconda3\\lib\\site-packages (from jsonschema[format-nongpl]>=4.18.0->jupyter-events>=0.9.0->jupyter-server<3,>=2.4.0->notebook>=7->nglview) (2.1)\n",
      "Requirement already satisfied: uri-template in c:\\users\\nirmi\\anaconda3\\lib\\site-packages (from jsonschema[format-nongpl]>=4.18.0->jupyter-events>=0.9.0->jupyter-server<3,>=2.4.0->notebook>=7->nglview) (1.3.0)\n",
      "Requirement already satisfied: webcolors>=1.11 in c:\\users\\nirmi\\anaconda3\\lib\\site-packages (from jsonschema[format-nongpl]>=4.18.0->jupyter-events>=0.9.0->jupyter-server<3,>=2.4.0->notebook>=7->nglview) (24.8.0)\n",
      "Requirement already satisfied: cffi>=1.0.1 in c:\\users\\nirmi\\anaconda3\\lib\\site-packages (from argon2-cffi-bindings->argon2-cffi>=21.1->jupyter-server<3,>=2.4.0->notebook>=7->nglview) (1.16.0)\n",
      "Requirement already satisfied: soupsieve>1.2 in c:\\users\\nirmi\\anaconda3\\lib\\site-packages (from beautifulsoup4->nbconvert>=6.4.4->jupyter-server<3,>=2.4.0->notebook>=7->nglview) (2.5)\n",
      "Requirement already satisfied: pycparser in c:\\users\\nirmi\\anaconda3\\lib\\site-packages (from cffi>=1.0.1->argon2-cffi-bindings->argon2-cffi>=21.1->jupyter-server<3,>=2.4.0->notebook>=7->nglview) (2.21)\n",
      "Requirement already satisfied: arrow>=0.15.0 in c:\\users\\nirmi\\anaconda3\\lib\\site-packages (from isoduration->jsonschema[format-nongpl]>=4.18.0->jupyter-events>=0.9.0->jupyter-server<3,>=2.4.0->notebook>=7->nglview) (1.2.3)\n"
     ]
    },
    {
     "data": {
      "application/vnd.jupyter.widget-view+json": {
       "model_id": "580b0becef7b4fa6b0a3ff6f807ac43a",
       "version_major": 2,
       "version_minor": 0
      },
      "text/plain": []
     },
     "metadata": {},
     "output_type": "display_data"
    }
   ],
   "source": [
    "!pip install biopython\n",
    "!pip install nglview\n",
    "\n",
    "import Bio\n",
    "import pylab\n",
    "import urllib\n",
    "import pandas as pd\n",
    "import nglview as nv\n",
    "from Bio.Seq import Seq\n",
    "from Bio.Blast import NCBIWWW\n",
    "from collections import Counter\n",
    "from Bio.Data import CodonTable\n",
    "from Bio import SeqIO, SearchIO\n",
    "from Bio.PDB import PDBParser, MMCIFParser\n",
    "from Bio.SeqUtils import molecular_weight, gc_fraction"
   ]
  },
  {
   "cell_type": "markdown",
   "metadata": {},
   "source": [
    "## 1. Attributes of Biopython"
   ]
  },
  {
   "cell_type": "code",
   "execution_count": 13,
   "metadata": {},
   "outputs": [
    {
     "data": {
      "text/plain": [
       "['Align',\n",
       " 'BiopythonDeprecationWarning',\n",
       " 'BiopythonExperimentalWarning',\n",
       " 'BiopythonParserWarning',\n",
       " 'BiopythonWarning',\n",
       " 'Blast',\n",
       " 'Data',\n",
       " 'File',\n",
       " 'GenBank',\n",
       " 'MissingExternalDependencyError',\n",
       " 'MissingPythonDependencyError',\n",
       " 'PDB',\n",
       " 'SVDSuperimposer',\n",
       " 'SearchIO',\n",
       " 'Seq',\n",
       " 'SeqFeature',\n",
       " 'SeqIO',\n",
       " 'SeqRecord',\n",
       " 'SeqUtils',\n",
       " 'Sequencing',\n",
       " 'StreamModeError',\n",
       " 'SwissProt',\n",
       " '__builtins__',\n",
       " '__cached__',\n",
       " '__doc__',\n",
       " '__file__',\n",
       " '__loader__',\n",
       " '__name__',\n",
       " '__package__',\n",
       " '__path__',\n",
       " '__spec__',\n",
       " '__version__',\n",
       " '_parent_dir',\n",
       " '_utils',\n",
       " 'os',\n",
       " 'warnings']"
      ]
     },
     "execution_count": 13,
     "metadata": {},
     "output_type": "execute_result"
    }
   ],
   "source": [
    "# Check Attributes of Biopython\n",
    "dir(Bio)"
   ]
  },
  {
   "cell_type": "markdown",
   "metadata": {},
   "source": [
    "## 2. Understanding FASTA file format\n",
    "\n",
    "#### SEQUENCE SOURCE\n",
    "\n",
    "<a href=\"https://www.ncbi.nlm.nih.gov/nuccore/MN908947.3?report=fasta\"> **COLLAGEN SEQUENCE FROM NCBI**<a>"
   ]
  },
  {
   "cell_type": "markdown",
   "metadata": {},
   "source": [
    "### 2.1. FASTA Format"
   ]
  },
  {
   "cell_type": "markdown",
   "metadata": {},
   "source": [
    "### 2.2. Reading from file"
   ]
  },
  {
   "cell_type": "code",
   "execution_count": 17,
   "metadata": {},
   "outputs": [],
   "source": [
    "from Bio import SeqIO, SearchIO\n",
    "# Loading FASTA file\n",
    "seq_file_read = SeqIO.read(\"C:/Users/nirmi/HIV2.fna\", \"fasta\")\n",
    "# seq_file_parse = SeqIO.parse(\"sequence.fasta\", \"fasta\")"
   ]
  },
  {
   "cell_type": "code",
   "execution_count": 18,
   "metadata": {},
   "outputs": [
    {
     "data": {
      "text/plain": [
       "Bio.SeqRecord.SeqRecord"
      ]
     },
     "execution_count": 18,
     "metadata": {},
     "output_type": "execute_result"
    }
   ],
   "source": [
    "type(seq_file_read)#,type(seq_file_parse)"
   ]
  },
  {
   "cell_type": "markdown",
   "metadata": {},
   "source": [
    "### 2.3 Sequence details"
   ]
  },
  {
   "cell_type": "code",
   "execution_count": 20,
   "metadata": {
    "scrolled": true
   },
   "outputs": [
    {
     "data": {
      "text/plain": [
       "'KP890355.1'"
      ]
     },
     "execution_count": 20,
     "metadata": {},
     "output_type": "execute_result"
    }
   ],
   "source": [
    "# list sequence details\n",
    "seq_file_read.id"
   ]
  },
  {
   "cell_type": "code",
   "execution_count": 21,
   "metadata": {},
   "outputs": [],
   "source": [
    "seqfromfile = seq_file_read.seq"
   ]
  },
  {
   "cell_type": "code",
   "execution_count": 22,
   "metadata": {},
   "outputs": [
    {
     "name": "stdout",
     "output_type": "stream",
     "text": [
      "ID: KP890355.1\n",
      "Name: KP890355.1\n",
      "Description: KP890355.1 HIV-2 isolate NWK08 from USA, complete genome\n",
      "Number of features: 0\n",
      "Seq('GCTACCAGGTAGAGCCCCGAGTGGATCCCTGGTAGCACTAGCAGGTGAGCCTGG...CCA')\n"
     ]
    }
   ],
   "source": [
    "# List sequence details from the FASTA file\n",
    "for record in SeqIO.parse(\"C:/Users/nirmi/HIV2.fna\", \"fasta\"):\n",
    "    print(record)\n"
   ]
  },
  {
   "cell_type": "code",
   "execution_count": 23,
   "metadata": {},
   "outputs": [
    {
     "name": "stdout",
     "output_type": "stream",
     "text": [
      "KP890355.1\n"
     ]
    }
   ],
   "source": [
    "print(record.id)"
   ]
  },
  {
   "cell_type": "code",
   "execution_count": 24,
   "metadata": {},
   "outputs": [
    {
     "data": {
      "text/plain": [
       "Seq('GCTACCAGGTAGAGCCCCGAGTGGATCCCTGGTAGCACTAGCAGGTGAGCCTGG...CCA')"
      ]
     },
     "execution_count": 24,
     "metadata": {},
     "output_type": "execute_result"
    }
   ],
   "source": [
    "# store sequence for later analysis\n",
    "seqfromfile = record.seq\n",
    "seqfromfile"
   ]
  },
  {
   "cell_type": "code",
   "execution_count": 25,
   "metadata": {},
   "outputs": [
    {
     "data": {
      "text/plain": [
       "9480"
      ]
     },
     "execution_count": 25,
     "metadata": {},
     "output_type": "execute_result"
    }
   ],
   "source": [
    "# length of sequence\n",
    "len(seqfromfile)"
   ]
  },
  {
   "cell_type": "code",
   "execution_count": 26,
   "metadata": {},
   "outputs": [
    {
     "name": "stdout",
     "output_type": "stream",
     "text": [
      "Molecular Weight: 2944530.0546 Da\n"
     ]
    }
   ],
   "source": [
    "from Bio.SeqUtils import molecular_weight\n",
    "\n",
    "# Load your sequence from a FASTA file\n",
    "fasta_path = \"C:/Users/nirmi/HIV2.fna\"\n",
    "record = SeqIO.read(fasta_path, format=\"fasta\")\n",
    "\n",
    "# Calculate molecular weight \n",
    "mol_weight = molecular_weight(record.seq)\n",
    "print(f\"Molecular Weight: {mol_weight} Da\")\n"
   ]
  },
  {
   "cell_type": "markdown",
   "metadata": {},
   "source": [
    "## 3. Sequence manipulation using Biopython"
   ]
  },
  {
   "cell_type": "markdown",
   "metadata": {},
   "source": [
    "<div class=\"alert alert-block alert-warning\" style=\"Font-size:16px\">\n",
    "- indexing/slicing<br>\n",
    "- concatination<br>\n",
    "- codon search<br>\n",
    "- GC content<br>\n",
    "- complement<br>\n",
    "\n",
    "</div>"
   ]
  },
  {
   "cell_type": "markdown",
   "metadata": {},
   "source": [
    "### 3.1. Indexing / Slicing"
   ]
  },
  {
   "cell_type": "code",
   "execution_count": 41,
   "metadata": {},
   "outputs": [
    {
     "data": {
      "text/plain": [
       "Seq('GCT')"
      ]
     },
     "execution_count": 41,
     "metadata": {},
     "output_type": "execute_result"
    }
   ],
   "source": [
    "# CODON\n",
    "seqfromfile[0:3]"
   ]
  },
  {
   "cell_type": "markdown",
   "metadata": {},
   "source": [
    "### 3.2. Concatination"
   ]
  },
  {
   "cell_type": "code",
   "execution_count": 44,
   "metadata": {},
   "outputs": [
    {
     "data": {
      "text/plain": [
       "Seq('GCTCCA')"
      ]
     },
     "execution_count": 44,
     "metadata": {},
     "output_type": "execute_result"
    }
   ],
   "source": [
    "seqfromfile[0:3]+seqfromfile[-3:]"
   ]
  },
  {
   "cell_type": "code",
   "execution_count": 46,
   "metadata": {},
   "outputs": [
    {
     "data": {
      "text/plain": [
       "Seq('GCTACCTACCA')"
      ]
     },
     "execution_count": 46,
     "metadata": {},
     "output_type": "execute_result"
    }
   ],
   "source": [
    "concat = seqfromfile[:6]+seqfromfile[-5:]\n",
    "concat"
   ]
  },
  {
   "cell_type": "markdown",
   "metadata": {},
   "source": [
    "### 3.3. Codon Search"
   ]
  },
  {
   "cell_type": "code",
   "execution_count": 49,
   "metadata": {},
   "outputs": [
    {
     "data": {
      "text/plain": [
       "10"
      ]
     },
     "execution_count": 49,
     "metadata": {},
     "output_type": "execute_result"
    }
   ],
   "source": [
    "seqfromfile.find('AGA')"
   ]
  },
  {
   "cell_type": "markdown",
   "metadata": {},
   "source": [
    "### 3.4. GC Content"
   ]
  },
  {
   "cell_type": "code",
   "execution_count": 52,
   "metadata": {},
   "outputs": [
    {
     "data": {
      "text/plain": [
       "44.324894514767934"
      ]
     },
     "execution_count": 52,
     "metadata": {},
     "output_type": "execute_result"
    }
   ],
   "source": [
    "# LOGIC\n",
    "(seqfromfile.count('G') + seqfromfile.count('C'))/(len(seqfromfile)) * 100"
   ]
  },
  {
   "cell_type": "code",
   "execution_count": 54,
   "metadata": {},
   "outputs": [
    {
     "name": "stdout",
     "output_type": "stream",
     "text": [
      "GC content: 44.324894514767934%\n"
     ]
    }
   ],
   "source": [
    "from Bio.SeqUtils import gc_fraction\n",
    "from Bio import SeqIO\n",
    "\n",
    "# Load the sequence from file\n",
    "seq_file_read = SeqIO.read(\"C:/Users/nirmi/HIV2.fna\", \"fasta\")\n",
    "\n",
    "# Calculate GC content\n",
    "gc_content = gc_fraction(seq_file_read.seq) * 100  # Convert fraction to percentage\n",
    "\n",
    "print(f\"GC content: {gc_content}%\")\n"
   ]
  },
  {
   "cell_type": "markdown",
   "metadata": {},
   "source": [
    "### 3.5. Complement"
   ]
  },
  {
   "cell_type": "markdown",
   "metadata": {},
   "source": [
    "<div class=\"alert alert-block alert-info\" style=\"Font-size:16px\">\n",
    "\n",
    "In **DNA** <br>\n",
    "    **A** Bonds with **T** (DOUBLE BOND)<br>\n",
    "    **G** Bonds with **C** (TRIPLE BOND)<br>\n",
    "    \n",
    "</div>"
   ]
  },
  {
   "cell_type": "code",
   "execution_count": 58,
   "metadata": {},
   "outputs": [
    {
     "data": {
      "text/plain": [
       "Seq('GCTACC')"
      ]
     },
     "execution_count": 58,
     "metadata": {},
     "output_type": "execute_result"
    }
   ],
   "source": [
    "seqfromfile[0:6]"
   ]
  },
  {
   "cell_type": "code",
   "execution_count": 60,
   "metadata": {},
   "outputs": [
    {
     "data": {
      "text/plain": [
       "Seq('CGATGG')"
      ]
     },
     "execution_count": 60,
     "metadata": {},
     "output_type": "execute_result"
    }
   ],
   "source": [
    "#complement\n",
    "\n",
    "seqfromfile[0:6].complement()"
   ]
  },
  {
   "cell_type": "code",
   "execution_count": 62,
   "metadata": {},
   "outputs": [
    {
     "data": {
      "text/plain": [
       "Seq('GGTAGC')"
      ]
     },
     "execution_count": 62,
     "metadata": {},
     "output_type": "execute_result"
    }
   ],
   "source": [
    "#reverse complement\n",
    "\n",
    "seqfromfile[0:6].reverse_complement()"
   ]
  },
  {
   "cell_type": "markdown",
   "metadata": {},
   "source": [
    "## 4. Transcription & Translation Studies\n",
    "\n",
    "<div class=\"alert alert-block alert-warning\" style=\"font-size:16px\">\n",
    "DNA > RNA = Transcription\n",
    "</div>\n",
    "<div class=\"alert alert-block alert-warning\" style=\"font-size:16px\">\n",
    "mRNA > amino acid (protein) = Translation\n",
    "</div>"
   ]
  },
  {
   "cell_type": "markdown",
   "metadata": {},
   "source": [
    "### 4.1. Transcription"
   ]
  },
  {
   "cell_type": "code",
   "execution_count": 66,
   "metadata": {},
   "outputs": [
    {
     "data": {
      "text/plain": [
       "Seq('GCUACCAGGU')"
      ]
     },
     "execution_count": 66,
     "metadata": {},
     "output_type": "execute_result"
    }
   ],
   "source": [
    "#Transcribe\n",
    "\n",
    "mRNA = seqfromfile.transcribe()\n",
    "mRNA[:10]"
   ]
  },
  {
   "cell_type": "code",
   "execution_count": 68,
   "metadata": {},
   "outputs": [
    {
     "data": {
      "text/plain": [
       "Seq('GCTACCAGGT')"
      ]
     },
     "execution_count": 68,
     "metadata": {},
     "output_type": "execute_result"
    }
   ],
   "source": [
    "#Back transcribe\n",
    "\n",
    "mRNA.back_transcribe()[:10]"
   ]
  },
  {
   "cell_type": "markdown",
   "metadata": {},
   "source": [
    "### 4.2. Translation"
   ]
  },
  {
   "cell_type": "code",
   "execution_count": 71,
   "metadata": {},
   "outputs": [
    {
     "name": "stdout",
     "output_type": "stream",
     "text": [
      "Table 1 Standard, SGC0\n",
      "\n",
      "  |  T      |  C      |  A      |  G      |\n",
      "--+---------+---------+---------+---------+--\n",
      "T | TTT F   | TCT S   | TAT Y   | TGT C   | T\n",
      "T | TTC F   | TCC S   | TAC Y   | TGC C   | C\n",
      "T | TTA L   | TCA S   | TAA Stop| TGA Stop| A\n",
      "T | TTG L(s)| TCG S   | TAG Stop| TGG W   | G\n",
      "--+---------+---------+---------+---------+--\n",
      "C | CTT L   | CCT P   | CAT H   | CGT R   | T\n",
      "C | CTC L   | CCC P   | CAC H   | CGC R   | C\n",
      "C | CTA L   | CCA P   | CAA Q   | CGA R   | A\n",
      "C | CTG L(s)| CCG P   | CAG Q   | CGG R   | G\n",
      "--+---------+---------+---------+---------+--\n",
      "A | ATT I   | ACT T   | AAT N   | AGT S   | T\n",
      "A | ATC I   | ACC T   | AAC N   | AGC S   | C\n",
      "A | ATA I   | ACA T   | AAA K   | AGA R   | A\n",
      "A | ATG M(s)| ACG T   | AAG K   | AGG R   | G\n",
      "--+---------+---------+---------+---------+--\n",
      "G | GTT V   | GCT A   | GAT D   | GGT G   | T\n",
      "G | GTC V   | GCC A   | GAC D   | GGC G   | C\n",
      "G | GTA V   | GCA A   | GAA E   | GGA G   | A\n",
      "G | GTG V   | GCG A   | GAG E   | GGG G   | G\n",
      "--+---------+---------+---------+---------+--\n"
     ]
    }
   ],
   "source": [
    "print(CodonTable.unambiguous_dna_by_id[1])"
   ]
  },
  {
   "cell_type": "code",
   "execution_count": 73,
   "metadata": {
    "scrolled": true
   },
   "outputs": [
    {
     "data": {
      "text/plain": [
       "Seq('ATR*SPEWIP')"
      ]
     },
     "execution_count": 73,
     "metadata": {},
     "output_type": "execute_result"
    }
   ],
   "source": [
    "protein_seq = seqfromfile.translate()\n",
    "protein_seq[:10]"
   ]
  },
  {
   "cell_type": "code",
   "execution_count": 75,
   "metadata": {},
   "outputs": [
    {
     "data": {
      "text/plain": [
       "3160"
      ]
     },
     "execution_count": 75,
     "metadata": {},
     "output_type": "execute_result"
    }
   ],
   "source": [
    "len(protein_seq)"
   ]
  },
  {
   "cell_type": "code",
   "execution_count": 77,
   "metadata": {},
   "outputs": [
    {
     "data": {
      "text/plain": [
       "9480"
      ]
     },
     "execution_count": 77,
     "metadata": {},
     "output_type": "execute_result"
    }
   ],
   "source": [
    "len(seqfromfile)"
   ]
  },
  {
   "cell_type": "code",
   "execution_count": 79,
   "metadata": {},
   "outputs": [
    {
     "name": "stdout",
     "output_type": "stream",
     "text": [
      "Table 1 Standard, SGC0\n",
      "\n",
      "  |  T      |  C      |  A      |  G      |\n",
      "--+---------+---------+---------+---------+--\n",
      "T | TTT F   | TCT S   | TAT Y   | TGT C   | T\n",
      "T | TTC F   | TCC S   | TAC Y   | TGC C   | C\n",
      "T | TTA L   | TCA S   | TAA Stop| TGA Stop| A\n",
      "T | TTG L(s)| TCG S   | TAG Stop| TGG W   | G\n",
      "--+---------+---------+---------+---------+--\n",
      "C | CTT L   | CCT P   | CAT H   | CGT R   | T\n",
      "C | CTC L   | CCC P   | CAC H   | CGC R   | C\n",
      "C | CTA L   | CCA P   | CAA Q   | CGA R   | A\n",
      "C | CTG L(s)| CCG P   | CAG Q   | CGG R   | G\n",
      "--+---------+---------+---------+---------+--\n",
      "A | ATT I   | ACT T   | AAT N   | AGT S   | T\n",
      "A | ATC I   | ACC T   | AAC N   | AGC S   | C\n",
      "A | ATA I   | ACA T   | AAA K   | AGA R   | A\n",
      "A | ATG M(s)| ACG T   | AAG K   | AGG R   | G\n",
      "--+---------+---------+---------+---------+--\n",
      "G | GTT V   | GCT A   | GAT D   | GGT G   | T\n",
      "G | GTC V   | GCC A   | GAC D   | GGC G   | C\n",
      "G | GTA V   | GCA A   | GAA E   | GGA G   | A\n",
      "G | GTG V   | GCG A   | GAG E   | GGG G   | G\n",
      "--+---------+---------+---------+---------+--\n"
     ]
    }
   ],
   "source": [
    "print(CodonTable.unambiguous_dna_by_id[1])"
   ]
  },
  {
   "cell_type": "code",
   "execution_count": 81,
   "metadata": {
    "scrolled": true
   },
   "outputs": [
    {
     "data": {
      "text/plain": [
       "[('R', 297),\n",
       " ('S', 249),\n",
       " ('G', 228),\n",
       " ('L', 227),\n",
       " ('T', 218),\n",
       " ('K', 206),\n",
       " ('Q', 163),\n",
       " ('E', 159),\n",
       " ('I', 158),\n",
       " ('N', 151)]"
      ]
     },
     "execution_count": 81,
     "metadata": {},
     "output_type": "execute_result"
    }
   ],
   "source": [
    "# Listing the most common amino acids\n",
    "\n",
    "common_amino = Counter(protein_seq)\n",
    "common_amino.most_common(10)"
   ]
  },
  {
   "cell_type": "code",
   "execution_count": 83,
   "metadata": {},
   "outputs": [],
   "source": [
    "del common_amino['*']"
   ]
  },
  {
   "cell_type": "code",
   "execution_count": 85,
   "metadata": {},
   "outputs": [
    {
     "data": {
      "image/png": "[encoded data removed]",
      "text/plain": [
       "<Figure size 640x480 with 1 Axes>"
      ]
     },
     "metadata": {},
     "output_type": "display_data"
    }
   ],
   "source": [
    "# visualize all 20 amino acid occurrences in the form of a histogram\n",
    "\n",
    "pylab.bar(common_amino.keys(),common_amino.values())\n",
    "\n",
    "pylab.title(\"%i protein sequences\\n frquency %i to %i\" \n",
    "            % (len(common_amino.values()), \n",
    "               min(common_amino.values()), \n",
    "               max(common_amino.values())))\n",
    "\n",
    "pylab.xlabel(\"Amino acid\")\n",
    "pylab.ylabel(\"frequency\")\n",
    "pylab.show()"
   ]
  },
  {
   "cell_type": "markdown",
   "metadata": {},
   "source": [
    "### Since stop codon * signifies end of a protein we can split the sequence using ( * )"
   ]
  },
  {
   "cell_type": "code",
   "execution_count": 88,
   "metadata": {},
   "outputs": [
    {
     "data": {
      "text/plain": [
       "['ATR',\n",
       " 'SPEWIPGSTSR',\n",
       " 'AWVFPVRLSLVLGQYQADGSTLACLTLNKAAI',\n",
       " 'KQVSVCSHLF',\n",
       " 'SPPGHSVSWLEVSVSSPWNCQNPLTKGQP',\n",
       " 'VKNLWQFGARTGTRET',\n",
       " 'ESTRLSEGSKGGRDQPRRRKTRCQRAERDVKVREAFGTDSPKVCVAIELFSYPQGG',\n",
       " 'KYSGRWARDTPSCQGKKQMN',\n",
       " 'KKLGYGPAERKSIC',\n",
       " 'SI']"
      ]
     },
     "execution_count": 88,
     "metadata": {},
     "output_type": "execute_result"
    }
   ],
   "source": [
    "protein_list = [str(i) for i in protein_seq.split('*')]\n",
    "protein_list[:10]"
   ]
  },
  {
   "cell_type": "code",
   "execution_count": 90,
   "metadata": {},
   "outputs": [],
   "source": [
    "# convert sequences to dataframe\n",
    "large_proteins = [x for x in protein_list if len(x)> 10]\n",
    "df = pd.DataFrame({'protein_seq':large_proteins})"
   ]
  },
  {
   "cell_type": "code",
   "execution_count": 92,
   "metadata": {},
   "outputs": [
    {
     "data": {
      "text/html": [
       "<div>\n",
       "<style scoped>\n",
       "    .dataframe tbody tr th:only-of-type {\n",
       "        vertical-align: middle;\n",
       "    }\n",
       "\n",
       "    .dataframe tbody tr th {\n",
       "        vertical-align: top;\n",
       "    }\n",
       "\n",
       "    .dataframe thead th {\n",
       "        text-align: right;\n",
       "    }\n",
       "</style>\n",
       "<table border=\"1\" class=\"dataframe\">\n",
       "  <thead>\n",
       "    <tr style=\"text-align: right;\">\n",
       "      <th></th>\n",
       "      <th>protein_seq</th>\n",
       "      <th>length</th>\n",
       "    </tr>\n",
       "  </thead>\n",
       "  <tbody>\n",
       "    <tr>\n",
       "      <th>0</th>\n",
       "      <td>SPEWIPGSTSR</td>\n",
       "      <td>11</td>\n",
       "    </tr>\n",
       "    <tr>\n",
       "      <th>1</th>\n",
       "      <td>AWVFPVRLSLVLGQYQADGSTLACLTLNKAAI</td>\n",
       "      <td>32</td>\n",
       "    </tr>\n",
       "    <tr>\n",
       "      <th>2</th>\n",
       "      <td>SPPGHSVSWLEVSVSSPWNCQNPLTKGQP</td>\n",
       "      <td>29</td>\n",
       "    </tr>\n",
       "    <tr>\n",
       "      <th>3</th>\n",
       "      <td>VKNLWQFGARTGTRET</td>\n",
       "      <td>16</td>\n",
       "    </tr>\n",
       "    <tr>\n",
       "      <th>4</th>\n",
       "      <td>ESTRLSEGSKGGRDQPRRRKTRCQRAERDVKVREAFGTDSPKVCVA...</td>\n",
       "      <td>56</td>\n",
       "    </tr>\n",
       "  </tbody>\n",
       "</table>\n",
       "</div>"
      ],
      "text/plain": [
       "                                         protein_seq  length\n",
       "0                                        SPEWIPGSTSR      11\n",
       "1                   AWVFPVRLSLVLGQYQADGSTLACLTLNKAAI      32\n",
       "2                      SPPGHSVSWLEVSVSSPWNCQNPLTKGQP      29\n",
       "3                                   VKNLWQFGARTGTRET      16\n",
       "4  ESTRLSEGSKGGRDQPRRRKTRCQRAERDVKVREAFGTDSPKVCVA...      56"
      ]
     },
     "execution_count": 92,
     "metadata": {},
     "output_type": "execute_result"
    }
   ],
   "source": [
    "# Add a column with sequence lengths\n",
    "\n",
    "df['length'] = df['protein_seq'].apply(len)\n",
    "df.head()"
   ]
  },
  {
   "cell_type": "code",
   "execution_count": 94,
   "metadata": {},
   "outputs": [
    {
     "data": {
      "text/html": [
       "<div>\n",
       "<style scoped>\n",
       "    .dataframe tbody tr th:only-of-type {\n",
       "        vertical-align: middle;\n",
       "    }\n",
       "\n",
       "    .dataframe tbody tr th {\n",
       "        vertical-align: top;\n",
       "    }\n",
       "\n",
       "    .dataframe thead th {\n",
       "        text-align: right;\n",
       "    }\n",
       "</style>\n",
       "<table border=\"1\" class=\"dataframe\">\n",
       "  <thead>\n",
       "    <tr style=\"text-align: right;\">\n",
       "      <th></th>\n",
       "      <th>protein_seq</th>\n",
       "      <th>length</th>\n",
       "    </tr>\n",
       "  </thead>\n",
       "  <tbody>\n",
       "    <tr>\n",
       "      <th>56</th>\n",
       "      <td>GSFTSCIRPVSMASPGLHLLIGILLLSVLQTWCGLYVTVFYGVPAW...</td>\n",
       "      <td>902</td>\n",
       "    </tr>\n",
       "    <tr>\n",
       "      <th>53</th>\n",
       "      <td>RLGRMDPRERAPPGNSGEETIGEAFEWLETTVTQINREAVNHLPRE...</td>\n",
       "      <td>115</td>\n",
       "    </tr>\n",
       "    <tr>\n",
       "      <th>54</th>\n",
       "      <td>MAAPPQEEAPQREPWDEWVIEVLEDIKQEALKHFDPRLLHALGNYI...</td>\n",
       "      <td>100</td>\n",
       "    </tr>\n",
       "    <tr>\n",
       "      <th>41</th>\n",
       "      <td>IWHPTASGKTNSKYMSQMSTKRRSNTWASRCISRDMADGLHSFRGK...</td>\n",
       "      <td>98</td>\n",
       "    </tr>\n",
       "    <tr>\n",
       "      <th>21</th>\n",
       "      <td>SIRKRNKSNINDWGDSNKYFRQKYITAIRNDFKLSIGKSRANTSTL...</td>\n",
       "      <td>90</td>\n",
       "    </tr>\n",
       "    <tr>\n",
       "      <th>63</th>\n",
       "      <td>QEEANHKVRWRTERKLAEIAGTFQQGDGQWVETGRGVWERPIIFCI...</td>\n",
       "      <td>63</td>\n",
       "    </tr>\n",
       "    <tr>\n",
       "      <th>4</th>\n",
       "      <td>ESTRLSEGSKGGRDQPRRRKTRCQRAERDVKVREAFGTDSPKVCVA...</td>\n",
       "      <td>56</td>\n",
       "    </tr>\n",
       "    <tr>\n",
       "      <th>16</th>\n",
       "      <td>EGNNRRGHQLLDALIVGNQATLPEIAGHQEERGAGNVERKDTCKQT...</td>\n",
       "      <td>54</td>\n",
       "    </tr>\n",
       "    <tr>\n",
       "      <th>33</th>\n",
       "      <td>RSQITGQCSTENRQGEPSNMGTITNISPTSRERNLGIMVDRLLASHVDT</td>\n",
       "      <td>49</td>\n",
       "    </tr>\n",
       "    <tr>\n",
       "      <th>36</th>\n",
       "      <td>NHQSTGRARSNKNGFRRLRRQSKYGHRLTVCHRYFIRTAYRIRI</td>\n",
       "      <td>44</td>\n",
       "    </tr>\n",
       "  </tbody>\n",
       "</table>\n",
       "</div>"
      ],
      "text/plain": [
       "                                          protein_seq  length\n",
       "56  GSFTSCIRPVSMASPGLHLLIGILLLSVLQTWCGLYVTVFYGVPAW...     902\n",
       "53  RLGRMDPRERAPPGNSGEETIGEAFEWLETTVTQINREAVNHLPRE...     115\n",
       "54  MAAPPQEEAPQREPWDEWVIEVLEDIKQEALKHFDPRLLHALGNYI...     100\n",
       "41  IWHPTASGKTNSKYMSQMSTKRRSNTWASRCISRDMADGLHSFRGK...      98\n",
       "21  SIRKRNKSNINDWGDSNKYFRQKYITAIRNDFKLSIGKSRANTSTL...      90\n",
       "63  QEEANHKVRWRTERKLAEIAGTFQQGDGQWVETGRGVWERPIIFCI...      63\n",
       "4   ESTRLSEGSKGGRDQPRRRKTRCQRAERDVKVREAFGTDSPKVCVA...      56\n",
       "16  EGNNRRGHQLLDALIVGNQATLPEIAGHQEERGAGNVERKDTCKQT...      54\n",
       "33  RSQITGQCSTENRQGEPSNMGTITNISPTSRERNLGIMVDRLLASHVDT      49\n",
       "36       NHQSTGRARSNKNGFRRLRRQSKYGHRLTVCHRYFIRTAYRIRI      44"
      ]
     },
     "execution_count": 94,
     "metadata": {},
     "output_type": "execute_result"
    }
   ],
   "source": [
    "# sort sequence data\n",
    "\n",
    "df.sort_values(by = ['length'], ascending = False)[:10]"
   ]
  },
  {
   "cell_type": "code",
   "execution_count": 96,
   "metadata": {},
   "outputs": [
    {
     "data": {
      "text/plain": [
       "'GSFTSCIRPVSMASPGLHLLIGILLLSVLQTWCGLYVTVFYGVPAWKNATVPLFCATKNRDTWGTTQCLPDNNDYVEIPLNVTEAFDAWNNTVTEQAIEDVWNLFETSIKPCVKLTPLCVAMRCNKTETEKWGLTNKQNTTNTTSTTTTSTPTTTKEKEIKGNETCINDNNCAGLETEPMIGCKFNMSGLKRDEEKEYNETWYSQDLVCDQNYNSTNISRCYMNHCNTSVIQESCDKHYWDSLRFRYCAPPGFALLRCNDTSYSGFQPNCSKVVASSCTRMMETQTSTWFGLNGTRAENRTYIYWHGRDNRTIISLNKYYNLTMRCRRPGNKTVRPITIMSGLVFHSQPINERPKQAWCWFEGEWKKAIQEVKDTLATHPRYTGTNDTKKINLVAPEGGDPEVTFMWTNCRGEFLYCKMNWFLNWVEDRNITHGRWSTQKPAEKQKRNYVPCHIRQIINTWHKVGKNVYLPPREGNLTCNSSVTSIIANIDWISDNETNITMSAEVAELYRLELGDYKLVEITPIGLAPTSVKRYSSATPRNKRGVFVLGFLGFLATAGSAMGAASLTLTAQSRTLLAGIVQQQQQLLDAVKRQQELLRLTVWGTKNLQTRVTAIEKYLKDQAQLNSWGCAFRQVCHTTVPWPNDTLQPNWDNMTWQEWERKVDFLTENITELLEQAQIQQEKNMYELQKLNSWDVFGNWFDLSSWITYIQYGVYLVVGVIGLRISIYIVQMLLRLREGYRPVFSSPPSYRQQIHIRRDQELPDGEDREEDGGEKGGNRSWPWQIEYIHFLIRQLIRLLTWLYSNCRDLIYRSFQTLHQLTQWILRRISAAATATRDFIRTEASYISYGWQYFLEALQAAMRAAGETLASAGGELWATLGRIGRGLLAVPRRIRQGLELALN'"
      ]
     },
     "execution_count": 96,
     "metadata": {},
     "output_type": "execute_result"
    }
   ],
   "source": [
    "# let's take a single protein from the table\n",
    "\n",
    "one_large_protein = df.nlargest(1,'length')\n",
    "single_prot = one_large_protein.iloc[0,0]\n",
    "single_prot"
   ]
  },
  {
   "cell_type": "code",
   "execution_count": 98,
   "metadata": {},
   "outputs": [
    {
     "name": "stdout",
     "output_type": "stream",
     "text": [
      "Protein sequence written to single_protein_sequence.fasta in FASTA format\n"
     ]
    }
   ],
   "source": [
    "# Define the filename\n",
    "fasta_filename = \"single_protein_sequence.fasta\"\n",
    "\n",
    "# Write the sequence in FASTA format\n",
    "with open(fasta_filename, 'w') as file:\n",
    "    # Write the header (starting with '>')\n",
    "    file.write(\">single_large_protein\\n\")\n",
    "    \n",
    "    # Write the sequence\n",
    "    file.write(single_prot)\n",
    "\n",
    "print(f\"Protein sequence written to {fasta_filename} in FASTA format\")\n"
   ]
  },
  {
   "cell_type": "markdown",
   "metadata": {},
   "source": [
    "## 5. Basic Local Alignment Using NCBI-BLAST"
   ]
  },
  {
   "cell_type": "code",
   "execution_count": 101,
   "metadata": {},
   "outputs": [
    {
     "name": "stdout",
     "output_type": "stream",
     "text": [
      "GSFTSCIRPVSMASPGLHLLIGILLLSVLQTWCGLYVTVFYGVPAWKNATVPLFCATKNRDTWGTTQCLPDNNDYVEIPLNVTEAFDAWNNTVTEQAIEDVWNLFETSIKPCVKLTPLCVAMRCNKTETEKWGLTNKQNTTNTTSTTTTSTPTTTKEKEIKGNETCINDNNCAGLETEPMIGCKFNMSGLKRDEEKEYNETWYSQDLVCDQNYNSTNISRCYMNHCNTSVIQESCDKHYWDSLRFRYCAPPGFALLRCNDTSYSGFQPNCSKVVASSCTRMMETQTSTWFGLNGTRAENRTYIYWHGRDNRTIISLNKYYNLTMRCRRPGNKTVRPITIMSGLVFHSQPINERPKQAWCWFEGEWKKAIQEVKDTLATHPRYTGTNDTKKINLVAPEGGDPEVTFMWTNCRGEFLYCKMNWFLNWVEDRNITHGRWSTQKPAEKQKRNYVPCHIRQIINTWHKVGKNVYLPPREGNLTCNSSVTSIIANIDWISDNETNITMSAEVAELYRLELGDYKLVEITPIGLAPTSVKRYSSATPRNKRGVFVLGFLGFLATAGSAMGAASLTLTAQSRTLLAGIVQQQQQLLDAVKRQQELLRLTVWGTKNLQTRVTAIEKYLKDQAQLNSWGCAFRQVCHTTVPWPNDTLQPNWDNMTWQEWERKVDFLTENITELLEQAQIQQEKNMYELQKLNSWDVFGNWFDLSSWITYIQYGVYLVVGVIGLRISIYIVQMLLRLREGYRPVFSSPPSYRQQIHIRRDQELPDGEDREEDGGEKGGNRSWPWQIEYIHFLIRQLIRLLTWLYSNCRDLIYRSFQTLHQLTQWILRRISAAATATRDFIRTEASYISYGWQYFLEALQAAMRAAGETLASAGGELWATLGRIGRGLLAVPRRIRQGLELALN\n"
     ]
    }
   ],
   "source": [
    "from Bio import SeqIO\n",
    "\n",
    "# Provide the correct file path\n",
    "file_path = \"single_protein_sequence.fasta\"\n",
    "\n",
    "# Read the sequence from the FASTA file\n",
    "read = SeqIO.read(file_path, \"fasta\")\n",
    "\n",
    "# Print the sequence\n",
    "print(read.seq)\n"
   ]
  },
  {
   "cell_type": "code",
   "execution_count": 130,
   "metadata": {},
   "outputs": [
    {
     "name": "stdout",
     "output_type": "stream",
     "text": [
      "CPU times: total: 0 ns\n",
      "Wall time: 1min 4s\n"
     ]
    }
   ],
   "source": [
    "%%time\n",
    "\n",
    "# based on the server load this query might take 2-3 minutes to run\n",
    "\n",
    "result_handle = NCBIWWW.qblast(\"blastp\",\"pdb\",read.seq)\n",
    "\n",
    "blast_qresult = SearchIO.read(result_handle, \"blast-xml\")"
   ]
  },
  {
   "cell_type": "code",
   "execution_count": 131,
   "metadata": {},
   "outputs": [
    {
     "name": "stdout",
     "output_type": "stream",
     "text": [
      "Program: blastp (2.16.0+)\n",
      "  Query: unnamed (902)\n",
      "         protein product\n",
      " Target: pdb\n",
      "   Hits: ----  -----  ----------------------------------------------------------\n",
      "            #  # HSP  ID + description\n",
      "         ----  -----  ----------------------------------------------------------\n",
      "            0      1  pdb|7T2P|A  Chain A, Envelope glycoprotein gp120 [Simia...\n",
      "            1      1  pdb|8DUA|C  Chain C, Envelope glycoprotein gp120 [Simia...\n",
      "            2      1  pdb|8DVD|E  Chain E, Envelope glycoprotein gp160 [Simia...\n",
      "            3      2  pdb|6TYB|G  Chain G, Envelope glycoprotein gp160 [Simia...\n",
      "            4      2  pdb|2BF1|A  Chain A, EXTERIOR MEMBRANE GLYCOPROTEIN GP1...\n"
     ]
    }
   ],
   "source": [
    "print(blast_qresult[0:5])"
   ]
  },
  {
   "cell_type": "code",
   "execution_count": 134,
   "metadata": {},
   "outputs": [
    {
     "name": "stdout",
     "output_type": "stream",
     "text": [
      "Sequence ID:pdb|7T2P|A\n",
      "description:Chain A, Envelope glycoprotein gp120 [Simian immunodeficiency virus]\n",
      "E value:    0.0 \n",
      "Bit Score:  875.159\n",
      "\n"
     ]
    }
   ],
   "source": [
    "#fetch the id, description, evalue, bitscore & alignment of first hit\n",
    "\n",
    "seqid = blast_qresult[0]\n",
    "\n",
    "details = seqid[0]\n",
    "\n",
    "print(f\"\\\n",
    "Sequence ID:{seqid.id}\\n\\\n",
    "description:{seqid.description}\\n\\\n",
    "E value:    {details.evalue} \\n\\\n",
    "Bit Score:  {details.bitscore}\\n\\\n",
    "\")"
   ]
  },
  {
   "cell_type": "code",
   "execution_count": 136,
   "metadata": {
    "scrolled": true
   },
   "outputs": [
    {
     "name": "stdout",
     "output_type": "stream",
     "text": [
      "alignment:\n",
      "Alignment with 2 rows and 527 columns\n",
      "MASPGLHLLIGILLLSVLQTWCGLYVTVFYGVPAWKNATVPLFC...SSA unnamed\n",
      "MGCLGNQLLIAILLLSVYGIYCTLYVTVFYGVPAWRNATIPLFC...TTG pdb|7T2P|A\n"
     ]
    }
   ],
   "source": [
    "print(f\"alignment:\\n{details.aln}\")"
   ]
  },
  {
   "cell_type": "markdown",
   "metadata": {},
   "source": [
    "## 6. Reading PDB file"
   ]
  },
  {
   "cell_type": "markdown",
   "metadata": {},
   "source": [
    "### Retreiving PDB Structure From RCSB PDB"
   ]
  },
  {
   "cell_type": "code",
   "execution_count": 140,
   "metadata": {},
   "outputs": [
    {
     "data": {
      "text/plain": [
       "'pdb|7T2P|A'"
      ]
     },
     "execution_count": 140,
     "metadata": {},
     "output_type": "execute_result"
    }
   ],
   "source": [
    "seqid.id"
   ]
  },
  {
   "cell_type": "code",
   "execution_count": 142,
   "metadata": {},
   "outputs": [
    {
     "data": {
      "text/plain": [
       "'7T2P'"
      ]
     },
     "execution_count": 142,
     "metadata": {},
     "output_type": "execute_result"
    }
   ],
   "source": [
    "# split seqid\n",
    "\n",
    "seqid.id.split('|')[1]"
   ]
  },
  {
   "cell_type": "code",
   "execution_count": 144,
   "metadata": {},
   "outputs": [
    {
     "name": "stdout",
     "output_type": "stream",
     "text": [
      "File downloaded and saved at Sequence_data\\7T2P.pdb\n"
     ]
    }
   ],
   "source": [
    "import urllib.request\n",
    "import os\n",
    "\n",
    "# Define the directory and file path\n",
    "directory = \"Sequence_data\"\n",
    "file_path = os.path.join(directory, \"7T2P.pdb\")\n",
    "\n",
    "# Create the directory if it doesn't exist\n",
    "if not os.path.exists(directory):\n",
    "    os.makedirs(directory)\n",
    "\n",
    "# Download the PDB file and save it to the specified directory\n",
    "urllib.request.urlretrieve('https://files.rcsb.org/download/7T2P.pdb', file_path)\n",
    "\n",
    "print(f\"File downloaded and saved at {file_path}\")"
   ]
  },
  {
   "cell_type": "markdown",
   "metadata": {},
   "source": [
    "### 6.1 Reading PDB file"
   ]
  },
  {
   "cell_type": "code",
   "execution_count": 146,
   "metadata": {},
   "outputs": [
    {
     "name": "stdout",
     "output_type": "stream",
     "text": [
      "<Structure id=7T2P>\n"
     ]
    },
    {
     "name": "stderr",
     "output_type": "stream",
     "text": [
      "C:\\Users\\nirmi\\anaconda3\\Lib\\site-packages\\Bio\\PDB\\StructureBuilder.py:100: PDBConstructionWarning: WARNING: Chain A is discontinuous at line 8643.\n",
      "  warnings.warn(\n",
      "C:\\Users\\nirmi\\anaconda3\\Lib\\site-packages\\Bio\\PDB\\StructureBuilder.py:100: PDBConstructionWarning: WARNING: Chain B is discontinuous at line 8783.\n",
      "  warnings.warn(\n"
     ]
    }
   ],
   "source": [
    "import warnings\n",
    "from Bio.PDB import PDBParser\n",
    "\n",
    "# Suppress PDBConstructionWarnings\n",
    "warnings.filterwarnings(\"ignore\", category=UserWarning)\n",
    "\n",
    "# Initialize PDB parser\n",
    "parser = PDBParser()\n",
    "\n",
    "# Parse the PDB structure\n",
    "structure = parser.get_structure(\"7T2P\", \"Sequence_data/7T2P.pdb\")\n",
    "\n",
    "# Print the structure\n",
    "print(structure)\n"
   ]
  },
  {
   "cell_type": "markdown",
   "metadata": {},
   "source": [
    "### 6.2 Identifying the number of chains"
   ]
  },
  {
   "cell_type": "code",
   "execution_count": 148,
   "metadata": {
    "scrolled": true
   },
   "outputs": [
    {
     "name": "stdout",
     "output_type": "stream",
     "text": [
      "chainid: A\n",
      "chainid: B\n",
      "chainid: H\n",
      "chainid: L\n",
      "chainid: C\n",
      "chainid: D\n",
      "chainid: E\n",
      "chainid: F\n",
      "chainid: G\n",
      "chainid: I\n",
      "chainid: J\n",
      "chainid: K\n",
      "chainid: M\n",
      "chainid: N\n",
      "chainid: O\n",
      "chainid: P\n"
     ]
    }
   ],
   "source": [
    "for chain in structure[0]:\n",
    "    print(f\"chainid: {chain.id}\")"
   ]
  },
  {
   "cell_type": "markdown",
   "metadata": {},
   "source": [
    "## 7. Visualizing SARS-CoV-19 Protein structure"
   ]
  },
  {
   "cell_type": "markdown",
   "metadata": {},
   "source": [
    "### 7.1. nglview"
   ]
  },
  {
   "cell_type": "code",
   "execution_count": 151,
   "metadata": {
    "scrolled": true
   },
   "outputs": [
    {
     "data": {
      "application/vnd.jupyter.widget-view+json": {
       "model_id": "6aa03d2edb544567869c45fc4c4258f4",
       "version_major": 2,
       "version_minor": 0
      },
      "text/plain": [
       "NGLWidget()"
      ]
     },
     "metadata": {},
     "output_type": "display_data"
    }
   ],
   "source": [
    "nv.demo()"
   ]
  },
  {
   "cell_type": "code",
   "execution_count": 152,
   "metadata": {},
   "outputs": [
    {
     "data": {
      "application/vnd.jupyter.widget-view+json": {
       "model_id": "93176d9294a64acaaaa1e229610d2ad2",
       "version_major": 2,
       "version_minor": 0
      },
      "text/plain": [
       "NGLWidget()"
      ]
     },
     "metadata": {},
     "output_type": "display_data"
    }
   ],
   "source": [
    "view = nv.show_biopython(structure)\n",
    "view"
   ]
  },
  {
   "cell_type": "code",
   "execution_count": 153,
   "metadata": {},
   "outputs": [
    {
     "data": {
      "application/vnd.jupyter.widget-view+json": {
       "model_id": "41eeb5b539a1472a84aab3a3d01f48c2",
       "version_major": 2,
       "version_minor": 0
      },
      "text/plain": [
       "Image(value=b'', width='99%')"
      ]
     },
     "execution_count": 153,
     "metadata": {},
     "output_type": "execute_result"
    }
   ],
   "source": [
    "view.render_image()"
   ]
  },
  {
   "cell_type": "markdown",
   "metadata": {},
   "source": [
    "### 7.2. nglview GUI"
   ]
  },
  {
   "cell_type": "code",
   "execution_count": 155,
   "metadata": {},
   "outputs": [
    {
     "data": {
      "application/vnd.jupyter.widget-view+json": {
       "model_id": "f1a975a963144fc2b2853829a448dbf6",
       "version_major": 2,
       "version_minor": 0
      },
      "text/plain": [
       "NGLWidget()"
      ]
     },
     "metadata": {},
     "output_type": "display_data"
    },
    {
     "data": {
      "application/vnd.jupyter.widget-view+json": {
       "model_id": "bcbb810cc3c641e09c2c89e4e11a2025",
       "version_major": 2,
       "version_minor": 0
      },
      "text/plain": [
       "Tab(children=(Box(children=(Box(children=(Box(children=(Label(value='step'), IntSlider(value=1, min=-100)), la…"
      ]
     },
     "metadata": {},
     "output_type": "display_data"
    }
   ],
   "source": [
    "#GUI\n",
    "view = nv.show_biopython(structure, gui=True)\n",
    "view"
   ]
  },
  {
   "cell_type": "code",
   "execution_count": 156,
   "metadata": {},
   "outputs": [
    {
     "data": {
      "application/vnd.jupyter.widget-view+json": {
       "model_id": "a76d7208f01a4837a10cf0329746ff5c",
       "version_major": 2,
       "version_minor": 0
      },
      "text/plain": [
       "Image(value=b'', width='99%')"
      ]
     },
     "execution_count": 156,
     "metadata": {},
     "output_type": "execute_result"
    }
   ],
   "source": [
    "view.render_image()"
   ]
  },
  {
   "cell_type": "code",
   "execution_count": null,
   "metadata": {},
   "outputs": [],
   "source": []
  },
  {
   "cell_type": "code",
   "execution_count": null,
   "metadata": {},
   "outputs": [],
   "source": []
  }
 ],
 "metadata": {
  "kernelspec": {
   "display_name": "Python 3 (ipykernel)",
   "language": "python",
   "name": "python3"
  },
  "language_info": {
   "codemirror_mode": {
    "name": "ipython",
    "version": 3
   },
   "file_extension": ".py",
   "mimetype": "text/x-python",
   "name": "python",
   "nbconvert_exporter": "python",
   "pygments_lexer": "ipython3",
   "version": "3.12.4"
  }
 },
 "nbformat": 4,
 "nbformat_minor": 4
}
